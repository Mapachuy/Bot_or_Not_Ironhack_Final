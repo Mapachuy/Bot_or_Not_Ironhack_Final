{
 "cells": [
  {
   "cell_type": "markdown",
   "metadata": {},
   "source": [
    "# Feature Engineering"
   ]
  },
  {
   "cell_type": "code",
   "execution_count": 1,
   "metadata": {},
   "outputs": [],
   "source": [
    "import pandas as panditasbb\n",
    "import numpy as np\n",
    "import matplotlib.pyplot as plt \n",
    "import seaborn as sns"
   ]
  },
  {
   "cell_type": "code",
   "execution_count": 2,
   "metadata": {},
   "outputs": [],
   "source": [
    "df = panditasbb.read_csv('twitter_complete_dataset.csv')"
   ]
  },
  {
   "cell_type": "code",
   "execution_count": 3,
   "metadata": {},
   "outputs": [
    {
     "name": "stdout",
     "output_type": "stream",
     "text": [
      "<class 'pandas.core.frame.DataFrame'>\n",
      "RangeIndex: 37438 entries, 0 to 37437\n",
      "Data columns (total 11 columns):\n",
      " #   Column                  Non-Null Count  Dtype  \n",
      "---  ------                  --------------  -----  \n",
      " 0   default_profile         37438 non-null  int64  \n",
      " 1   default_profile_image   37438 non-null  int64  \n",
      " 2   favourites_count        37438 non-null  int64  \n",
      " 3   followers_count         37438 non-null  int64  \n",
      " 4   friends_count           37438 non-null  int64  \n",
      " 5   geo_enabled             37438 non-null  int64  \n",
      " 6   statuses_count          37438 non-null  int64  \n",
      " 7   verified                37438 non-null  int64  \n",
      " 8   average_tweets_per_day  37438 non-null  float64\n",
      " 9   account_age_days        37438 non-null  int64  \n",
      " 10  Bot_or_Not              37438 non-null  int64  \n",
      "dtypes: float64(1), int64(10)\n",
      "memory usage: 3.1 MB\n"
     ]
    }
   ],
   "source": [
    "df.info()"
   ]
  },
  {
   "cell_type": "code",
   "execution_count": 4,
   "metadata": {},
   "outputs": [],
   "source": [
    "df.drop(columns=['average_tweets_per_day','account_age_days'], inplace=True)"
   ]
  },
  {
   "cell_type": "code",
   "execution_count": 5,
   "metadata": {},
   "outputs": [
    {
     "data": {
      "text/html": [
       "<div>\n",
       "<style scoped>\n",
       "    .dataframe tbody tr th:only-of-type {\n",
       "        vertical-align: middle;\n",
       "    }\n",
       "\n",
       "    .dataframe tbody tr th {\n",
       "        vertical-align: top;\n",
       "    }\n",
       "\n",
       "    .dataframe thead th {\n",
       "        text-align: right;\n",
       "    }\n",
       "</style>\n",
       "<table border=\"1\" class=\"dataframe\">\n",
       "  <thead>\n",
       "    <tr style=\"text-align: right;\">\n",
       "      <th></th>\n",
       "      <th>default_profile</th>\n",
       "      <th>default_profile_image</th>\n",
       "      <th>favourites_count</th>\n",
       "      <th>followers_count</th>\n",
       "      <th>friends_count</th>\n",
       "      <th>geo_enabled</th>\n",
       "      <th>statuses_count</th>\n",
       "      <th>verified</th>\n",
       "      <th>Bot_or_Not</th>\n",
       "    </tr>\n",
       "  </thead>\n",
       "  <tbody>\n",
       "    <tr>\n",
       "      <th>0</th>\n",
       "      <td>0</td>\n",
       "      <td>0</td>\n",
       "      <td>4</td>\n",
       "      <td>1589</td>\n",
       "      <td>4</td>\n",
       "      <td>0</td>\n",
       "      <td>11041</td>\n",
       "      <td>0</td>\n",
       "      <td>1</td>\n",
       "    </tr>\n",
       "    <tr>\n",
       "      <th>1</th>\n",
       "      <td>0</td>\n",
       "      <td>0</td>\n",
       "      <td>536</td>\n",
       "      <td>860</td>\n",
       "      <td>880</td>\n",
       "      <td>0</td>\n",
       "      <td>252</td>\n",
       "      <td>0</td>\n",
       "      <td>0</td>\n",
       "    </tr>\n",
       "    <tr>\n",
       "      <th>2</th>\n",
       "      <td>0</td>\n",
       "      <td>0</td>\n",
       "      <td>3307</td>\n",
       "      <td>172</td>\n",
       "      <td>594</td>\n",
       "      <td>1</td>\n",
       "      <td>1001</td>\n",
       "      <td>0</td>\n",
       "      <td>0</td>\n",
       "    </tr>\n",
       "    <tr>\n",
       "      <th>3</th>\n",
       "      <td>1</td>\n",
       "      <td>0</td>\n",
       "      <td>8433</td>\n",
       "      <td>517</td>\n",
       "      <td>633</td>\n",
       "      <td>1</td>\n",
       "      <td>1324</td>\n",
       "      <td>0</td>\n",
       "      <td>0</td>\n",
       "    </tr>\n",
       "  </tbody>\n",
       "</table>\n",
       "</div>"
      ],
      "text/plain": [
       "   default_profile  default_profile_image  favourites_count  followers_count  \\\n",
       "0                0                      0                 4             1589   \n",
       "1                0                      0               536              860   \n",
       "2                0                      0              3307              172   \n",
       "3                1                      0              8433              517   \n",
       "\n",
       "   friends_count  geo_enabled  statuses_count  verified  Bot_or_Not  \n",
       "0              4            0           11041         0           1  \n",
       "1            880            0             252         0           0  \n",
       "2            594            1            1001         0           0  \n",
       "3            633            1            1324         0           0  "
      ]
     },
     "execution_count": 5,
     "metadata": {},
     "output_type": "execute_result"
    }
   ],
   "source": [
    "df.head(4)"
   ]
  },
  {
   "cell_type": "code",
   "execution_count": 6,
   "metadata": {},
   "outputs": [
    {
     "data": {
      "text/plain": [
       "['default_profile',\n",
       " 'default_profile_image',\n",
       " 'favourites_count',\n",
       " 'followers_count',\n",
       " 'friends_count',\n",
       " 'geo_enabled',\n",
       " 'statuses_count',\n",
       " 'verified',\n",
       " 'Bot_or_Not']"
      ]
     },
     "execution_count": 6,
     "metadata": {},
     "output_type": "execute_result"
    }
   ],
   "source": [
    "features = list(df.columns)\n",
    "features"
   ]
  },
  {
   "cell_type": "code",
   "execution_count": 7,
   "metadata": {},
   "outputs": [],
   "source": [
    "from sklearn import preprocessing\n",
    "\n",
    "x = df.values\n",
    "min_max_scaler = preprocessing.MinMaxScaler()\n",
    "scaler = min_max_scaler.fit(x)\n",
    "data = panditasbb.DataFrame(scaler.transform(df), index=df.index, columns=df.columns)"
   ]
  },
  {
   "cell_type": "code",
   "execution_count": 8,
   "metadata": {},
   "outputs": [],
   "source": [
    "data = data.sample(frac=1)"
   ]
  },
  {
   "cell_type": "code",
   "execution_count": 9,
   "metadata": {},
   "outputs": [
    {
     "data": {
      "text/html": [
       "<div>\n",
       "<style scoped>\n",
       "    .dataframe tbody tr th:only-of-type {\n",
       "        vertical-align: middle;\n",
       "    }\n",
       "\n",
       "    .dataframe tbody tr th {\n",
       "        vertical-align: top;\n",
       "    }\n",
       "\n",
       "    .dataframe thead th {\n",
       "        text-align: right;\n",
       "    }\n",
       "</style>\n",
       "<table border=\"1\" class=\"dataframe\">\n",
       "  <thead>\n",
       "    <tr style=\"text-align: right;\">\n",
       "      <th></th>\n",
       "      <th>default_profile</th>\n",
       "      <th>default_profile_image</th>\n",
       "      <th>favourites_count</th>\n",
       "      <th>followers_count</th>\n",
       "      <th>friends_count</th>\n",
       "      <th>geo_enabled</th>\n",
       "      <th>statuses_count</th>\n",
       "      <th>verified</th>\n",
       "      <th>Bot_or_Not</th>\n",
       "    </tr>\n",
       "  </thead>\n",
       "  <tbody>\n",
       "    <tr>\n",
       "      <th>2649</th>\n",
       "      <td>0.0</td>\n",
       "      <td>0.0</td>\n",
       "      <td>0.002339</td>\n",
       "      <td>8.138672e-07</td>\n",
       "      <td>0.000014</td>\n",
       "      <td>0.0</td>\n",
       "      <td>0.001069</td>\n",
       "      <td>0.0</td>\n",
       "      <td>1.0</td>\n",
       "    </tr>\n",
       "    <tr>\n",
       "      <th>18321</th>\n",
       "      <td>1.0</td>\n",
       "      <td>0.0</td>\n",
       "      <td>0.000154</td>\n",
       "      <td>6.165660e-07</td>\n",
       "      <td>0.000058</td>\n",
       "      <td>1.0</td>\n",
       "      <td>0.000011</td>\n",
       "      <td>0.0</td>\n",
       "      <td>1.0</td>\n",
       "    </tr>\n",
       "    <tr>\n",
       "      <th>13067</th>\n",
       "      <td>0.0</td>\n",
       "      <td>0.0</td>\n",
       "      <td>0.007201</td>\n",
       "      <td>7.472780e-06</td>\n",
       "      <td>0.000313</td>\n",
       "      <td>1.0</td>\n",
       "      <td>0.020158</td>\n",
       "      <td>0.0</td>\n",
       "      <td>1.0</td>\n",
       "    </tr>\n",
       "    <tr>\n",
       "      <th>28321</th>\n",
       "      <td>0.0</td>\n",
       "      <td>0.0</td>\n",
       "      <td>0.002904</td>\n",
       "      <td>2.153871e-06</td>\n",
       "      <td>0.000000</td>\n",
       "      <td>0.0</td>\n",
       "      <td>0.011246</td>\n",
       "      <td>0.0</td>\n",
       "      <td>1.0</td>\n",
       "    </tr>\n",
       "    <tr>\n",
       "      <th>3271</th>\n",
       "      <td>0.0</td>\n",
       "      <td>0.0</td>\n",
       "      <td>0.001416</td>\n",
       "      <td>9.042968e-08</td>\n",
       "      <td>0.000000</td>\n",
       "      <td>1.0</td>\n",
       "      <td>0.000682</td>\n",
       "      <td>0.0</td>\n",
       "      <td>1.0</td>\n",
       "    </tr>\n",
       "  </tbody>\n",
       "</table>\n",
       "</div>"
      ],
      "text/plain": [
       "       default_profile  default_profile_image  favourites_count  \\\n",
       "2649               0.0                    0.0          0.002339   \n",
       "18321              1.0                    0.0          0.000154   \n",
       "13067              0.0                    0.0          0.007201   \n",
       "28321              0.0                    0.0          0.002904   \n",
       "3271               0.0                    0.0          0.001416   \n",
       "\n",
       "       followers_count  friends_count  geo_enabled  statuses_count  verified  \\\n",
       "2649      8.138672e-07       0.000014          0.0        0.001069       0.0   \n",
       "18321     6.165660e-07       0.000058          1.0        0.000011       0.0   \n",
       "13067     7.472780e-06       0.000313          1.0        0.020158       0.0   \n",
       "28321     2.153871e-06       0.000000          0.0        0.011246       0.0   \n",
       "3271      9.042968e-08       0.000000          1.0        0.000682       0.0   \n",
       "\n",
       "       Bot_or_Not  \n",
       "2649          1.0  \n",
       "18321         1.0  \n",
       "13067         1.0  \n",
       "28321         1.0  \n",
       "3271          1.0  "
      ]
     },
     "execution_count": 9,
     "metadata": {},
     "output_type": "execute_result"
    }
   ],
   "source": [
    "data.head(5)"
   ]
  },
  {
   "cell_type": "markdown",
   "metadata": {},
   "source": [
    "# Entrenar modelos"
   ]
  },
  {
   "cell_type": "code",
   "execution_count": 139,
   "metadata": {},
   "outputs": [],
   "source": [
    "X = data.drop('Bot_or_Not', axis=1)\n",
    "y = data.Bot_or_Not"
   ]
  },
  {
   "cell_type": "code",
   "execution_count": 140,
   "metadata": {},
   "outputs": [],
   "source": [
    "from sklearn.model_selection import train_test_split, KFold, cross_val_score\n",
    "X_train, X_test, y_train, y_test = train_test_split(X, y, test_size=0.20)"
   ]
  },
  {
   "cell_type": "code",
   "execution_count": 89,
   "metadata": {},
   "outputs": [
    {
     "data": {
      "text/plain": [
       "LogisticRegression()"
      ]
     },
     "execution_count": 89,
     "metadata": {},
     "output_type": "execute_result"
    }
   ],
   "source": [
    "from sklearn.linear_model import LogisticRegression\n",
    "\n",
    "logreg = LogisticRegression()  \n",
    "logreg.fit(X_train, y_train)"
   ]
  },
  {
   "cell_type": "code",
   "execution_count": 90,
   "metadata": {},
   "outputs": [
    {
     "data": {
      "text/plain": [
       "KNeighborsClassifier(n_neighbors=3)"
      ]
     },
     "execution_count": 90,
     "metadata": {},
     "output_type": "execute_result"
    }
   ],
   "source": [
    "from sklearn.neighbors import KNeighborsClassifier\n",
    "\n",
    "knn = KNeighborsClassifier(n_neighbors=3) # el 3 es el hiperparametro\n",
    "knn.fit(X_train, y_train)"
   ]
  },
  {
   "cell_type": "code",
   "execution_count": 141,
   "metadata": {},
   "outputs": [
    {
     "data": {
      "text/plain": [
       "RandomForestClassifier(n_jobs=5, random_state=42)"
      ]
     },
     "execution_count": 141,
     "metadata": {},
     "output_type": "execute_result"
    }
   ],
   "source": [
    "from sklearn.ensemble import RandomForestClassifier\n",
    "\n",
    "RFC = RandomForestClassifier(n_jobs=5, random_state=42)\n",
    "RFC.fit(X_train, y_train)  "
   ]
  },
  {
   "cell_type": "code",
   "execution_count": 82,
   "metadata": {},
   "outputs": [
    {
     "data": {
      "text/plain": [
       "GaussianNB()"
      ]
     },
     "execution_count": 82,
     "metadata": {},
     "output_type": "execute_result"
    }
   ],
   "source": [
    "from sklearn.naive_bayes import GaussianNB\n",
    "\n",
    "nb = GaussianNB()\n",
    "nb.fit(X_train, y_train)"
   ]
  },
  {
   "cell_type": "code",
   "execution_count": 61,
   "metadata": {},
   "outputs": [
    {
     "data": {
      "text/plain": [
       "SVC(kernel='poly')"
      ]
     },
     "execution_count": 61,
     "metadata": {},
     "output_type": "execute_result"
    }
   ],
   "source": [
    "from sklearn.svm import SVC\n",
    "\n",
    "svclassifier = SVC(kernel='poly')\n",
    "svclassifier.fit(X_train, y_train)"
   ]
  },
  {
   "cell_type": "markdown",
   "metadata": {},
   "source": [
    "## Modelos predict"
   ]
  },
  {
   "cell_type": "code",
   "execution_count": 136,
   "metadata": {},
   "outputs": [],
   "source": [
    "y_pred_logreg = logreg.predict(X_test)\n",
    "y_pred_knn = knn.predict(X_test)\n",
    "y_pred_RFC = RFC.predict(X_test)\n",
    "#y_pred_nb = nb.predict(X_test)\n",
    "#y_pred_svc = svclassifier.predict(X_test)"
   ]
  },
  {
   "cell_type": "markdown",
   "metadata": {},
   "source": [
    "## Matrices de confusión y reportes"
   ]
  },
  {
   "cell_type": "code",
   "execution_count": 73,
   "metadata": {},
   "outputs": [],
   "source": [
    "from sklearn.metrics import accuracy_score, classification_report, confusion_matrix"
   ]
  },
  {
   "cell_type": "markdown",
   "metadata": {},
   "source": [
    "#### Logistic Regression"
   ]
  },
  {
   "cell_type": "code",
   "execution_count": 74,
   "metadata": {},
   "outputs": [
    {
     "name": "stdout",
     "output_type": "stream",
     "text": [
      "Confusion Matrix --> Logistic Regression:\n",
      "[[4233  750]\n",
      " [1128 1377]]\n",
      "Classification Report --> Logistic Regression:\n",
      "              precision    recall  f1-score   support\n",
      "\n",
      "         0.0       0.79      0.85      0.82      4983\n",
      "         1.0       0.65      0.55      0.59      2505\n",
      "\n",
      "    accuracy                           0.75      7488\n",
      "   macro avg       0.72      0.70      0.71      7488\n",
      "weighted avg       0.74      0.75      0.74      7488\n",
      "\n"
     ]
    }
   ],
   "source": [
    "print(f'Confusion Matrix --> Logistic Regression:\\n{confusion_matrix(y_test,y_pred_logreg)}')\n",
    "print(f'Classification Report --> Logistic Regression:\\n{classification_report(y_test,y_pred_logreg)}')"
   ]
  },
  {
   "cell_type": "markdown",
   "metadata": {},
   "source": [
    "#### KNN"
   ]
  },
  {
   "cell_type": "code",
   "execution_count": 75,
   "metadata": {},
   "outputs": [
    {
     "name": "stdout",
     "output_type": "stream",
     "text": [
      "Confusion Matrix --> K-Neighbors Classifier:\n",
      "[[4464  519]\n",
      " [ 674 1831]]\n",
      "Classification Report --> K-Neighbors Classifier:\n",
      "              precision    recall  f1-score   support\n",
      "\n",
      "         0.0       0.87      0.90      0.88      4983\n",
      "         1.0       0.78      0.73      0.75      2505\n",
      "\n",
      "    accuracy                           0.84      7488\n",
      "   macro avg       0.82      0.81      0.82      7488\n",
      "weighted avg       0.84      0.84      0.84      7488\n",
      "\n"
     ]
    }
   ],
   "source": [
    "print(f'Confusion Matrix --> K-Neighbors Classifier:\\n{confusion_matrix(y_test,y_pred_knn)}')\n",
    "print(f'Classification Report --> K-Neighbors Classifier:\\n{classification_report(y_test,y_pred_knn)}')"
   ]
  },
  {
   "cell_type": "markdown",
   "metadata": {},
   "source": [
    "#### Random Forest"
   ]
  },
  {
   "cell_type": "code",
   "execution_count": 142,
   "metadata": {},
   "outputs": [
    {
     "name": "stdout",
     "output_type": "stream",
     "text": [
      "Confusion Matrix --> Random Forest Classifier:\n",
      "[[3511 1461]\n",
      " [1765  751]]\n",
      "Classification Report --> Random Forest Classifier:\n",
      "              precision    recall  f1-score   support\n",
      "\n",
      "         0.0       0.67      0.71      0.69      4972\n",
      "         1.0       0.34      0.30      0.32      2516\n",
      "\n",
      "    accuracy                           0.57      7488\n",
      "   macro avg       0.50      0.50      0.50      7488\n",
      "weighted avg       0.56      0.57      0.56      7488\n",
      "\n"
     ]
    }
   ],
   "source": [
    "cf_matrix = confusion_matrix(y_test,y_pred_RFC)\n",
    "print(f'Confusion Matrix --> Random Forest Classifier:\\n{cf_matrix}')\n",
    "print(f'Classification Report --> Random Forest Classifier:\\n{classification_report(y_test,y_pred_RFC)}')"
   ]
  },
  {
   "cell_type": "code",
   "execution_count": 54,
   "metadata": {},
   "outputs": [
    {
     "data": {
      "text/plain": [
       "<matplotlib.axes._subplots.AxesSubplot at 0x1215e5f90>"
      ]
     },
     "execution_count": 54,
     "metadata": {},
     "output_type": "execute_result"
    },
    {
     "data": {
      "image/png": "[encoded data removed]",
      "text/plain": [
       "<Figure size 432x288 with 2 Axes>"
      ]
     },
     "metadata": {
      "needs_background": "light"
     },
     "output_type": "display_data"
    }
   ],
   "source": [
    "sns.heatmap(cf_matrix/np.sum(cf_matrix), annot=True, \n",
    "            fmt='.2%', cmap='Blues')"
   ]
  },
  {
   "cell_type": "markdown",
   "metadata": {},
   "source": [
    "#### Naive Bayes"
   ]
  },
  {
   "cell_type": "code",
   "execution_count": 22,
   "metadata": {},
   "outputs": [
    {
     "name": "stdout",
     "output_type": "stream",
     "text": [
      "Confusion Matrix --> Naive Bayes:\n",
      "[[3105 1850]\n",
      " [ 341 2192]]\n",
      "Classification Report --> Naive Bayes:\n",
      "              precision    recall  f1-score   support\n",
      "\n",
      "         0.0       0.90      0.63      0.74      4955\n",
      "         1.0       0.54      0.87      0.67      2533\n",
      "\n",
      "    accuracy                           0.71      7488\n",
      "   macro avg       0.72      0.75      0.70      7488\n",
      "weighted avg       0.78      0.71      0.71      7488\n",
      "\n"
     ]
    }
   ],
   "source": [
    "print(f'Confusion Matrix --> Naive Bayes:\\n{confusion_matrix(y_test,y_pred_nb)}')\n",
    "print(f'Classification Report --> Naive Bayes:\\n{classification_report(y_test,y_pred_nb)}')"
   ]
  },
  {
   "cell_type": "markdown",
   "metadata": {},
   "source": [
    "#### SVM"
   ]
  },
  {
   "cell_type": "code",
   "execution_count": 23,
   "metadata": {},
   "outputs": [
    {
     "name": "stdout",
     "output_type": "stream",
     "text": [
      "Confusion Matrix --> SVM:\n",
      "[[4176  779]\n",
      " [1148 1385]]\n",
      "Classification Report --> SVM:\n",
      "              precision    recall  f1-score   support\n",
      "\n",
      "         0.0       0.78      0.84      0.81      4955\n",
      "         1.0       0.64      0.55      0.59      2533\n",
      "\n",
      "    accuracy                           0.74      7488\n",
      "   macro avg       0.71      0.69      0.70      7488\n",
      "weighted avg       0.74      0.74      0.74      7488\n",
      "\n"
     ]
    }
   ],
   "source": [
    "print(f'Confusion Matrix --> SVM:\\n{confusion_matrix(y_test,y_pred_svc)}')\n",
    "print(f'Classification Report --> SVM:\\n{classification_report(y_test,y_pred_svc)}')"
   ]
  },
  {
   "cell_type": "markdown",
   "metadata": {},
   "source": [
    "## Cross val (mean y std)"
   ]
  },
  {
   "cell_type": "code",
   "execution_count": 24,
   "metadata": {},
   "outputs": [
    {
     "name": "stderr",
     "output_type": "stream",
     "text": [
      "/usr/local/Cellar/jupyterlab/1.2.6/libexec/lib/python3.7/site-packages/sklearn/model_selection/_split.py:297: FutureWarning: Setting a random_state has no effect since shuffle is False. This will raise an error in 0.24. You should leave random_state to its default (None), or set shuffle=True.\n",
      "  FutureWarning\n",
      "/usr/local/Cellar/jupyterlab/1.2.6/libexec/lib/python3.7/site-packages/sklearn/model_selection/_split.py:297: FutureWarning: Setting a random_state has no effect since shuffle is False. This will raise an error in 0.24. You should leave random_state to its default (None), or set shuffle=True.\n",
      "  FutureWarning\n"
     ]
    },
    {
     "name": "stdout",
     "output_type": "stream",
     "text": [
      "LR, 0.7499165275459099,(0.0002671118530884753)\n",
      "KNN, 0.8408681135225375,(0.0002671118530884753)\n"
     ]
    },
    {
     "name": "stderr",
     "output_type": "stream",
     "text": [
      "/usr/local/Cellar/jupyterlab/1.2.6/libexec/lib/python3.7/site-packages/sklearn/model_selection/_split.py:297: FutureWarning: Setting a random_state has no effect since shuffle is False. This will raise an error in 0.24. You should leave random_state to its default (None), or set shuffle=True.\n",
      "  FutureWarning\n"
     ]
    },
    {
     "name": "stdout",
     "output_type": "stream",
     "text": [
      "RFC, 0.8648080133555927,(0.0013021702838063032)\n",
      "NB, 0.721135225375626,(0.010617696160267087)\n"
     ]
    },
    {
     "name": "stderr",
     "output_type": "stream",
     "text": [
      "/usr/local/Cellar/jupyterlab/1.2.6/libexec/lib/python3.7/site-packages/sklearn/model_selection/_split.py:297: FutureWarning: Setting a random_state has no effect since shuffle is False. This will raise an error in 0.24. You should leave random_state to its default (None), or set shuffle=True.\n",
      "  FutureWarning\n",
      "/usr/local/Cellar/jupyterlab/1.2.6/libexec/lib/python3.7/site-packages/sklearn/model_selection/_split.py:297: FutureWarning: Setting a random_state has no effect since shuffle is False. This will raise an error in 0.24. You should leave random_state to its default (None), or set shuffle=True.\n",
      "  FutureWarning\n"
     ]
    },
    {
     "name": "stdout",
     "output_type": "stream",
     "text": [
      "SVM, 0.746677796327212,(0.0006343906510851149)\n"
     ]
    }
   ],
   "source": [
    "tamano_test = 0.20\n",
    "seed = 30 # no existe un dato exacto para saber el número de seed\n",
    "scoring = 'accuracy'\n",
    "X_train, X_test, y_train, y_test = train_test_split(X,y, test_size=tamano_test, random_state=seed)\n",
    "\n",
    "modelos = []\n",
    "modelos.append(('LR', LogisticRegression()))\n",
    "modelos.append(('KNN', KNeighborsClassifier()))\n",
    "modelos.append(('RFC', RandomForestClassifier()))\n",
    "modelos.append(('NB', GaussianNB()))\n",
    "modelos.append(('SVM', SVC()))\n",
    "\n",
    "resultados = []\n",
    "nombres = []\n",
    "for nombre, modelo in modelos:\n",
    "    kfold = KFold(n_splits = 2, random_state=seed) # el número de splits es las veces que corre el modelo\n",
    "    cv_resultados = cross_val_score(modelo, X_train, y_train, cv=kfold, scoring = scoring)\n",
    "    resultados.append(cv_resultados)\n",
    "    nombres.append(nombre)\n",
    "    print(f'{nombre}, {cv_resultados.mean()},({cv_resultados.std()})')"
   ]
  },
  {
   "cell_type": "code",
   "execution_count": 25,
   "metadata": {},
   "outputs": [
    {
     "data": {
      "image/png": "[encoded data removed]",
      "text/plain": [
       "<Figure size 504x504 with 1 Axes>"
      ]
     },
     "metadata": {
      "needs_background": "light"
     },
     "output_type": "display_data"
    }
   ],
   "source": [
    "fig = plt.figure(figsize=(7,7))\n",
    "fig.suptitle('Comparación de modelos')\n",
    "ax = fig.add_subplot()\n",
    "plt.boxplot(resultados)\n",
    "ax.set_xticklabels(nombres)\n",
    "plt.show()"
   ]
  },
  {
   "cell_type": "markdown",
   "metadata": {},
   "source": [
    "## Let's put their name to test"
   ]
  },
  {
   "cell_type": "markdown",
   "metadata": {},
   "source": [
    "#### Getting and cleaning data"
   ]
  },
  {
   "cell_type": "code",
   "execution_count": 26,
   "metadata": {},
   "outputs": [
    {
     "data": {
      "text/html": [
       "<div>\n",
       "<style scoped>\n",
       "    .dataframe tbody tr th:only-of-type {\n",
       "        vertical-align: middle;\n",
       "    }\n",
       "\n",
       "    .dataframe tbody tr th {\n",
       "        vertical-align: top;\n",
       "    }\n",
       "\n",
       "    .dataframe thead th {\n",
       "        text-align: right;\n",
       "    }\n",
       "</style>\n",
       "<table border=\"1\" class=\"dataframe\">\n",
       "  <thead>\n",
       "    <tr style=\"text-align: right;\">\n",
       "      <th></th>\n",
       "      <th>followers_count</th>\n",
       "      <th>friends_count</th>\n",
       "      <th>favourites_count</th>\n",
       "      <th>geo_enabled</th>\n",
       "      <th>verified</th>\n",
       "      <th>statuses_count</th>\n",
       "      <th>default_profile</th>\n",
       "      <th>default_profile_image</th>\n",
       "    </tr>\n",
       "  </thead>\n",
       "  <tbody>\n",
       "    <tr>\n",
       "      <th>0</th>\n",
       "      <td>23</td>\n",
       "      <td>8</td>\n",
       "      <td>2</td>\n",
       "      <td>0</td>\n",
       "      <td>0</td>\n",
       "      <td>3792</td>\n",
       "      <td>0</td>\n",
       "      <td>0</td>\n",
       "    </tr>\n",
       "    <tr>\n",
       "      <th>1</th>\n",
       "      <td>322</td>\n",
       "      <td>8</td>\n",
       "      <td>34</td>\n",
       "      <td>0</td>\n",
       "      <td>0</td>\n",
       "      <td>407226</td>\n",
       "      <td>0</td>\n",
       "      <td>0</td>\n",
       "    </tr>\n",
       "    <tr>\n",
       "      <th>2</th>\n",
       "      <td>171</td>\n",
       "      <td>86</td>\n",
       "      <td>1933</td>\n",
       "      <td>0</td>\n",
       "      <td>0</td>\n",
       "      <td>15668</td>\n",
       "      <td>1</td>\n",
       "      <td>0</td>\n",
       "    </tr>\n",
       "    <tr>\n",
       "      <th>3</th>\n",
       "      <td>3374</td>\n",
       "      <td>9</td>\n",
       "      <td>15</td>\n",
       "      <td>0</td>\n",
       "      <td>0</td>\n",
       "      <td>5087</td>\n",
       "      <td>1</td>\n",
       "      <td>0</td>\n",
       "    </tr>\n",
       "    <tr>\n",
       "      <th>4</th>\n",
       "      <td>7</td>\n",
       "      <td>2</td>\n",
       "      <td>1</td>\n",
       "      <td>0</td>\n",
       "      <td>0</td>\n",
       "      <td>2813</td>\n",
       "      <td>0</td>\n",
       "      <td>0</td>\n",
       "    </tr>\n",
       "    <tr>\n",
       "      <th>...</th>\n",
       "      <td>...</td>\n",
       "      <td>...</td>\n",
       "      <td>...</td>\n",
       "      <td>...</td>\n",
       "      <td>...</td>\n",
       "      <td>...</td>\n",
       "      <td>...</td>\n",
       "      <td>...</td>\n",
       "    </tr>\n",
       "    <tr>\n",
       "      <th>2680</th>\n",
       "      <td>3020</td>\n",
       "      <td>790</td>\n",
       "      <td>1707</td>\n",
       "      <td>0</td>\n",
       "      <td>1</td>\n",
       "      <td>4671</td>\n",
       "      <td>0</td>\n",
       "      <td>0</td>\n",
       "    </tr>\n",
       "    <tr>\n",
       "      <th>2681</th>\n",
       "      <td>4074</td>\n",
       "      <td>4239</td>\n",
       "      <td>4777</td>\n",
       "      <td>1</td>\n",
       "      <td>1</td>\n",
       "      <td>712</td>\n",
       "      <td>0</td>\n",
       "      <td>0</td>\n",
       "    </tr>\n",
       "    <tr>\n",
       "      <th>2682</th>\n",
       "      <td>17014</td>\n",
       "      <td>2610</td>\n",
       "      <td>7765</td>\n",
       "      <td>1</td>\n",
       "      <td>1</td>\n",
       "      <td>17452</td>\n",
       "      <td>0</td>\n",
       "      <td>0</td>\n",
       "    </tr>\n",
       "    <tr>\n",
       "      <th>2683</th>\n",
       "      <td>367516</td>\n",
       "      <td>20245</td>\n",
       "      <td>10282</td>\n",
       "      <td>1</td>\n",
       "      <td>1</td>\n",
       "      <td>158301</td>\n",
       "      <td>0</td>\n",
       "      <td>0</td>\n",
       "    </tr>\n",
       "    <tr>\n",
       "      <th>2684</th>\n",
       "      <td>55512</td>\n",
       "      <td>11725</td>\n",
       "      <td>2429</td>\n",
       "      <td>1</td>\n",
       "      <td>1</td>\n",
       "      <td>57015</td>\n",
       "      <td>0</td>\n",
       "      <td>0</td>\n",
       "    </tr>\n",
       "  </tbody>\n",
       "</table>\n",
       "<p>2685 rows × 8 columns</p>\n",
       "</div>"
      ],
      "text/plain": [
       "      followers_count  friends_count  favourites_count  geo_enabled  verified  \\\n",
       "0                  23              8                 2            0         0   \n",
       "1                 322              8                34            0         0   \n",
       "2                 171             86              1933            0         0   \n",
       "3                3374              9                15            0         0   \n",
       "4                   7              2                 1            0         0   \n",
       "...               ...            ...               ...          ...       ...   \n",
       "2680             3020            790              1707            0         1   \n",
       "2681             4074           4239              4777            1         1   \n",
       "2682            17014           2610              7765            1         1   \n",
       "2683           367516          20245             10282            1         1   \n",
       "2684            55512          11725              2429            1         1   \n",
       "\n",
       "      statuses_count  default_profile  default_profile_image  \n",
       "0               3792                0                      0  \n",
       "1             407226                0                      0  \n",
       "2              15668                1                      0  \n",
       "3               5087                1                      0  \n",
       "4               2813                0                      0  \n",
       "...              ...              ...                    ...  \n",
       "2680            4671                0                      0  \n",
       "2681             712                0                      0  \n",
       "2682           17452                0                      0  \n",
       "2683          158301                0                      0  \n",
       "2684           57015                0                      0  \n",
       "\n",
       "[2685 rows x 8 columns]"
      ]
     },
     "execution_count": 26,
     "metadata": {},
     "output_type": "execute_result"
    }
   ],
   "source": [
    "test_data = panditasbb.read_csv('botometer_to_test.csv')\n",
    "test_data"
   ]
  },
  {
   "cell_type": "code",
   "execution_count": 27,
   "metadata": {},
   "outputs": [
    {
     "data": {
      "text/html": [
       "<div>\n",
       "<style scoped>\n",
       "    .dataframe tbody tr th:only-of-type {\n",
       "        vertical-align: middle;\n",
       "    }\n",
       "\n",
       "    .dataframe tbody tr th {\n",
       "        vertical-align: top;\n",
       "    }\n",
       "\n",
       "    .dataframe thead th {\n",
       "        text-align: right;\n",
       "    }\n",
       "</style>\n",
       "<table border=\"1\" class=\"dataframe\">\n",
       "  <thead>\n",
       "    <tr style=\"text-align: right;\">\n",
       "      <th></th>\n",
       "      <th>followers_count</th>\n",
       "      <th>friends_count</th>\n",
       "      <th>favourites_count</th>\n",
       "      <th>geo_enabled</th>\n",
       "      <th>verified</th>\n",
       "      <th>statuses_count</th>\n",
       "      <th>default_profile</th>\n",
       "      <th>default_profile_image</th>\n",
       "    </tr>\n",
       "  </thead>\n",
       "  <tbody>\n",
       "    <tr>\n",
       "      <th>0</th>\n",
       "      <td>1.243970e-06</td>\n",
       "      <td>0.000062</td>\n",
       "      <td>0.000004</td>\n",
       "      <td>0.0</td>\n",
       "      <td>0.0</td>\n",
       "      <td>0.001829</td>\n",
       "      <td>0.0</td>\n",
       "      <td>0.0</td>\n",
       "    </tr>\n",
       "    <tr>\n",
       "      <th>1</th>\n",
       "      <td>1.741558e-05</td>\n",
       "      <td>0.000062</td>\n",
       "      <td>0.000073</td>\n",
       "      <td>0.0</td>\n",
       "      <td>0.0</td>\n",
       "      <td>0.196804</td>\n",
       "      <td>0.0</td>\n",
       "      <td>0.0</td>\n",
       "    </tr>\n",
       "    <tr>\n",
       "      <th>2</th>\n",
       "      <td>9.248647e-06</td>\n",
       "      <td>0.000668</td>\n",
       "      <td>0.004177</td>\n",
       "      <td>0.0</td>\n",
       "      <td>0.0</td>\n",
       "      <td>0.007568</td>\n",
       "      <td>1.0</td>\n",
       "      <td>0.0</td>\n",
       "    </tr>\n",
       "    <tr>\n",
       "      <th>3</th>\n",
       "      <td>1.824850e-04</td>\n",
       "      <td>0.000070</td>\n",
       "      <td>0.000032</td>\n",
       "      <td>0.0</td>\n",
       "      <td>0.0</td>\n",
       "      <td>0.002455</td>\n",
       "      <td>1.0</td>\n",
       "      <td>0.0</td>\n",
       "    </tr>\n",
       "    <tr>\n",
       "      <th>4</th>\n",
       "      <td>3.785996e-07</td>\n",
       "      <td>0.000016</td>\n",
       "      <td>0.000002</td>\n",
       "      <td>0.0</td>\n",
       "      <td>0.0</td>\n",
       "      <td>0.001356</td>\n",
       "      <td>0.0</td>\n",
       "      <td>0.0</td>\n",
       "    </tr>\n",
       "    <tr>\n",
       "      <th>...</th>\n",
       "      <td>...</td>\n",
       "      <td>...</td>\n",
       "      <td>...</td>\n",
       "      <td>...</td>\n",
       "      <td>...</td>\n",
       "      <td>...</td>\n",
       "      <td>...</td>\n",
       "      <td>...</td>\n",
       "    </tr>\n",
       "    <tr>\n",
       "      <th>2680</th>\n",
       "      <td>1.633387e-04</td>\n",
       "      <td>0.006137</td>\n",
       "      <td>0.003689</td>\n",
       "      <td>0.0</td>\n",
       "      <td>1.0</td>\n",
       "      <td>0.002254</td>\n",
       "      <td>0.0</td>\n",
       "      <td>0.0</td>\n",
       "    </tr>\n",
       "    <tr>\n",
       "      <th>2681</th>\n",
       "      <td>2.203450e-04</td>\n",
       "      <td>0.032928</td>\n",
       "      <td>0.010323</td>\n",
       "      <td>1.0</td>\n",
       "      <td>1.0</td>\n",
       "      <td>0.000340</td>\n",
       "      <td>0.0</td>\n",
       "      <td>0.0</td>\n",
       "    </tr>\n",
       "    <tr>\n",
       "      <th>2682</th>\n",
       "      <td>9.202133e-04</td>\n",
       "      <td>0.020274</td>\n",
       "      <td>0.016780</td>\n",
       "      <td>1.0</td>\n",
       "      <td>1.0</td>\n",
       "      <td>0.008431</td>\n",
       "      <td>0.0</td>\n",
       "      <td>0.0</td>\n",
       "    </tr>\n",
       "    <tr>\n",
       "      <th>2683</th>\n",
       "      <td>1.987734e-02</td>\n",
       "      <td>0.157260</td>\n",
       "      <td>0.022220</td>\n",
       "      <td>1.0</td>\n",
       "      <td>1.0</td>\n",
       "      <td>0.076501</td>\n",
       "      <td>0.0</td>\n",
       "      <td>0.0</td>\n",
       "    </tr>\n",
       "    <tr>\n",
       "      <th>2684</th>\n",
       "      <td>3.002403e-03</td>\n",
       "      <td>0.091078</td>\n",
       "      <td>0.005249</td>\n",
       "      <td>1.0</td>\n",
       "      <td>1.0</td>\n",
       "      <td>0.027551</td>\n",
       "      <td>0.0</td>\n",
       "      <td>0.0</td>\n",
       "    </tr>\n",
       "  </tbody>\n",
       "</table>\n",
       "<p>2685 rows × 8 columns</p>\n",
       "</div>"
      ],
      "text/plain": [
       "      followers_count  friends_count  favourites_count  geo_enabled  verified  \\\n",
       "0        1.243970e-06       0.000062          0.000004          0.0       0.0   \n",
       "1        1.741558e-05       0.000062          0.000073          0.0       0.0   \n",
       "2        9.248647e-06       0.000668          0.004177          0.0       0.0   \n",
       "3        1.824850e-04       0.000070          0.000032          0.0       0.0   \n",
       "4        3.785996e-07       0.000016          0.000002          0.0       0.0   \n",
       "...               ...            ...               ...          ...       ...   \n",
       "2680     1.633387e-04       0.006137          0.003689          0.0       1.0   \n",
       "2681     2.203450e-04       0.032928          0.010323          1.0       1.0   \n",
       "2682     9.202133e-04       0.020274          0.016780          1.0       1.0   \n",
       "2683     1.987734e-02       0.157260          0.022220          1.0       1.0   \n",
       "2684     3.002403e-03       0.091078          0.005249          1.0       1.0   \n",
       "\n",
       "      statuses_count  default_profile  default_profile_image  \n",
       "0           0.001829              0.0                    0.0  \n",
       "1           0.196804              0.0                    0.0  \n",
       "2           0.007568              1.0                    0.0  \n",
       "3           0.002455              1.0                    0.0  \n",
       "4           0.001356              0.0                    0.0  \n",
       "...              ...              ...                    ...  \n",
       "2680        0.002254              0.0                    0.0  \n",
       "2681        0.000340              0.0                    0.0  \n",
       "2682        0.008431              0.0                    0.0  \n",
       "2683        0.076501              0.0                    0.0  \n",
       "2684        0.027551              0.0                    0.0  \n",
       "\n",
       "[2685 rows x 8 columns]"
      ]
     },
     "execution_count": 27,
     "metadata": {},
     "output_type": "execute_result"
    }
   ],
   "source": [
    "x_test_data = test_data.values\n",
    "min_max_scaler = preprocessing.MinMaxScaler()\n",
    "scaler_test_data = min_max_scaler.fit(x_test_data)\n",
    "data_test = panditasbb.DataFrame(scaler_test_data.transform(test_data), index=test_data.index, columns=test_data.columns)\n",
    "\n",
    "data_test"
   ]
  },
  {
   "cell_type": "code",
   "execution_count": 28,
   "metadata": {},
   "outputs": [
    {
     "data": {
      "text/html": [
       "<div>\n",
       "<style scoped>\n",
       "    .dataframe tbody tr th:only-of-type {\n",
       "        vertical-align: middle;\n",
       "    }\n",
       "\n",
       "    .dataframe tbody tr th {\n",
       "        vertical-align: top;\n",
       "    }\n",
       "\n",
       "    .dataframe thead th {\n",
       "        text-align: right;\n",
       "    }\n",
       "</style>\n",
       "<table border=\"1\" class=\"dataframe\">\n",
       "  <thead>\n",
       "    <tr style=\"text-align: right;\">\n",
       "      <th></th>\n",
       "      <th>followers_count</th>\n",
       "      <th>friends_count</th>\n",
       "      <th>favourites_count</th>\n",
       "      <th>geo_enabled</th>\n",
       "      <th>verified</th>\n",
       "      <th>statuses_count</th>\n",
       "      <th>default_profile</th>\n",
       "      <th>default_profile_image</th>\n",
       "    </tr>\n",
       "  </thead>\n",
       "  <tbody>\n",
       "    <tr>\n",
       "      <th>2474</th>\n",
       "      <td>2.612878e-04</td>\n",
       "      <td>0.002750</td>\n",
       "      <td>0.002734</td>\n",
       "      <td>0.0</td>\n",
       "      <td>1.0</td>\n",
       "      <td>0.001134</td>\n",
       "      <td>0.0</td>\n",
       "      <td>0.0</td>\n",
       "    </tr>\n",
       "    <tr>\n",
       "      <th>2636</th>\n",
       "      <td>3.341412e-04</td>\n",
       "      <td>0.021501</td>\n",
       "      <td>0.030866</td>\n",
       "      <td>0.0</td>\n",
       "      <td>1.0</td>\n",
       "      <td>0.009268</td>\n",
       "      <td>0.0</td>\n",
       "      <td>0.0</td>\n",
       "    </tr>\n",
       "    <tr>\n",
       "      <th>277</th>\n",
       "      <td>2.163426e-07</td>\n",
       "      <td>0.000047</td>\n",
       "      <td>0.000177</td>\n",
       "      <td>0.0</td>\n",
       "      <td>0.0</td>\n",
       "      <td>0.003761</td>\n",
       "      <td>1.0</td>\n",
       "      <td>0.0</td>\n",
       "    </tr>\n",
       "    <tr>\n",
       "      <th>2252</th>\n",
       "      <td>1.883803e-04</td>\n",
       "      <td>0.015784</td>\n",
       "      <td>0.028619</td>\n",
       "      <td>1.0</td>\n",
       "      <td>1.0</td>\n",
       "      <td>0.001013</td>\n",
       "      <td>0.0</td>\n",
       "      <td>0.0</td>\n",
       "    </tr>\n",
       "    <tr>\n",
       "      <th>2662</th>\n",
       "      <td>2.723213e-04</td>\n",
       "      <td>0.004917</td>\n",
       "      <td>0.000169</td>\n",
       "      <td>1.0</td>\n",
       "      <td>1.0</td>\n",
       "      <td>0.041071</td>\n",
       "      <td>0.0</td>\n",
       "      <td>0.0</td>\n",
       "    </tr>\n",
       "    <tr>\n",
       "      <th>1005</th>\n",
       "      <td>1.216386e-04</td>\n",
       "      <td>0.016553</td>\n",
       "      <td>0.004246</td>\n",
       "      <td>1.0</td>\n",
       "      <td>1.0</td>\n",
       "      <td>0.002404</td>\n",
       "      <td>0.0</td>\n",
       "      <td>0.0</td>\n",
       "    </tr>\n",
       "    <tr>\n",
       "      <th>1011</th>\n",
       "      <td>6.827232e-04</td>\n",
       "      <td>0.001049</td>\n",
       "      <td>0.001372</td>\n",
       "      <td>1.0</td>\n",
       "      <td>1.0</td>\n",
       "      <td>0.006384</td>\n",
       "      <td>0.0</td>\n",
       "      <td>0.0</td>\n",
       "    </tr>\n",
       "    <tr>\n",
       "      <th>1207</th>\n",
       "      <td>1.442162e-02</td>\n",
       "      <td>0.010215</td>\n",
       "      <td>0.084771</td>\n",
       "      <td>0.0</td>\n",
       "      <td>1.0</td>\n",
       "      <td>0.000976</td>\n",
       "      <td>0.0</td>\n",
       "      <td>0.0</td>\n",
       "    </tr>\n",
       "    <tr>\n",
       "      <th>1934</th>\n",
       "      <td>1.980622e-02</td>\n",
       "      <td>0.006183</td>\n",
       "      <td>0.002302</td>\n",
       "      <td>0.0</td>\n",
       "      <td>1.0</td>\n",
       "      <td>0.009015</td>\n",
       "      <td>0.0</td>\n",
       "      <td>0.0</td>\n",
       "    </tr>\n",
       "    <tr>\n",
       "      <th>534</th>\n",
       "      <td>3.910393e-05</td>\n",
       "      <td>0.000000</td>\n",
       "      <td>0.000000</td>\n",
       "      <td>0.0</td>\n",
       "      <td>0.0</td>\n",
       "      <td>0.003724</td>\n",
       "      <td>1.0</td>\n",
       "      <td>0.0</td>\n",
       "    </tr>\n",
       "  </tbody>\n",
       "</table>\n",
       "</div>"
      ],
      "text/plain": [
       "      followers_count  friends_count  favourites_count  geo_enabled  verified  \\\n",
       "2474     2.612878e-04       0.002750          0.002734          0.0       1.0   \n",
       "2636     3.341412e-04       0.021501          0.030866          0.0       1.0   \n",
       "277      2.163426e-07       0.000047          0.000177          0.0       0.0   \n",
       "2252     1.883803e-04       0.015784          0.028619          1.0       1.0   \n",
       "2662     2.723213e-04       0.004917          0.000169          1.0       1.0   \n",
       "1005     1.216386e-04       0.016553          0.004246          1.0       1.0   \n",
       "1011     6.827232e-04       0.001049          0.001372          1.0       1.0   \n",
       "1207     1.442162e-02       0.010215          0.084771          0.0       1.0   \n",
       "1934     1.980622e-02       0.006183          0.002302          0.0       1.0   \n",
       "534      3.910393e-05       0.000000          0.000000          0.0       0.0   \n",
       "\n",
       "      statuses_count  default_profile  default_profile_image  \n",
       "2474        0.001134              0.0                    0.0  \n",
       "2636        0.009268              0.0                    0.0  \n",
       "277         0.003761              1.0                    0.0  \n",
       "2252        0.001013              0.0                    0.0  \n",
       "2662        0.041071              0.0                    0.0  \n",
       "1005        0.002404              0.0                    0.0  \n",
       "1011        0.006384              0.0                    0.0  \n",
       "1207        0.000976              0.0                    0.0  \n",
       "1934        0.009015              0.0                    0.0  \n",
       "534         0.003724              1.0                    0.0  "
      ]
     },
     "execution_count": 28,
     "metadata": {},
     "output_type": "execute_result"
    }
   ],
   "source": [
    "data_test = data_test.sample(frac=1)\n",
    "data_test.head(10)"
   ]
  },
  {
   "cell_type": "markdown",
   "metadata": {},
   "source": [
    "#### Probar en los modelos"
   ]
  },
  {
   "cell_type": "code",
   "execution_count": 29,
   "metadata": {},
   "outputs": [],
   "source": [
    "from collections import Counter"
   ]
  },
  {
   "cell_type": "code",
   "execution_count": 30,
   "metadata": {},
   "outputs": [
    {
     "data": {
      "text/plain": [
       "{1.0: 2270, 0.0: 415}"
      ]
     },
     "execution_count": 30,
     "metadata": {},
     "output_type": "execute_result"
    }
   ],
   "source": [
    "logreg_tested = logreg.predict(data_test)\n",
    "c_logreg = Counter(logreg_tested)\n",
    "c_logreg_dict = dict(c_logreg)\n",
    "c_logreg_dict"
   ]
  },
  {
   "cell_type": "code",
   "execution_count": 31,
   "metadata": {},
   "outputs": [
    {
     "name": "stdout",
     "output_type": "stream",
     "text": [
      "Para Logistic Regression el porcentaje estimado es:\n",
      "Bots --> 15.456238361266301\n",
      "Cuentas reales es --> 84.5437616387337\n"
     ]
    }
   ],
   "source": [
    "porcentaje_logreg_hoomans = c_logreg_dict[1]/2685*100\n",
    "porcentaje_logreg_bots = 100-porcentaje_logreg_hoomans\n",
    "print(f'Para Logistic Regression el porcentaje estimado es:\\nBots --> {porcentaje_logreg_bots}\\nCuentas reales es --> {porcentaje_logreg_hoomans}')"
   ]
  },
  {
   "cell_type": "code",
   "execution_count": 32,
   "metadata": {},
   "outputs": [
    {
     "data": {
      "text/plain": [
       "{1.0: 2440, 0.0: 245}"
      ]
     },
     "execution_count": 32,
     "metadata": {},
     "output_type": "execute_result"
    }
   ],
   "source": [
    "knn_tested = knn.predict(data_test)\n",
    "c_knn = Counter(knn_tested)\n",
    "c_knn_dict = dict(c_knn)\n",
    "c_knn_dict"
   ]
  },
  {
   "cell_type": "code",
   "execution_count": 33,
   "metadata": {},
   "outputs": [
    {
     "name": "stdout",
     "output_type": "stream",
     "text": [
      "Para Logistic Regression el porcentaje estimado es:\n",
      "Bots --> 9.124767225325883\n",
      "Cuentas reales es --> 90.87523277467412\n"
     ]
    }
   ],
   "source": [
    "porcentaje_knn_hoomans = c_knn_dict[1]/2685*100\n",
    "porcentaje_knn_bots = 100-porcentaje_knn_hoomans\n",
    "print(f'Para Logistic Regression el porcentaje estimado es:\\nBots --> {porcentaje_knn_bots}\\nCuentas reales es --> {porcentaje_knn_hoomans}')"
   ]
  },
  {
   "cell_type": "code",
   "execution_count": 143,
   "metadata": {},
   "outputs": [
    {
     "data": {
      "text/plain": [
       "{1.0: 2016, 0.0: 669}"
      ]
     },
     "execution_count": 143,
     "metadata": {},
     "output_type": "execute_result"
    }
   ],
   "source": [
    "RFC_tested = RFC.predict(data_test)\n",
    "c_RFC = Counter(RFC_tested)\n",
    "c_RFC_dict = dict(c_RFC)\n",
    "c_RFC_dict"
   ]
  },
  {
   "cell_type": "code",
   "execution_count": 145,
   "metadata": {},
   "outputs": [
    {
     "name": "stdout",
     "output_type": "stream",
     "text": [
      "Para RandomForest Classifier el porcentaje estimado es:\n",
      "Bots --> 24.916201117318437\n",
      "Cuentas reales es --> 75.08379888268156\n"
     ]
    }
   ],
   "source": [
    "porcentaje_RFC_hoomans = c_RFC_dict[1]/2685*100\n",
    "porcentaje_RFC_bots = 100-porcentaje_RFC_hoomans\n",
    "print(f'Para RandomForest Classifier el porcentaje estimado es:\\nBots --> {porcentaje_RFC_bots}\\nCuentas reales es --> {porcentaje_RFC_hoomans}')"
   ]
  },
  {
   "cell_type": "code",
   "execution_count": 36,
   "metadata": {},
   "outputs": [
    {
     "data": {
      "text/plain": [
       "{1.0: 1294, 0.0: 1391}"
      ]
     },
     "execution_count": 36,
     "metadata": {},
     "output_type": "execute_result"
    }
   ],
   "source": [
    "nb_tested = nb.predict(data_test)\n",
    "c_nb = Counter(nb_tested)\n",
    "c_nb_dict = dict(c_nb)\n",
    "c_nb_dict"
   ]
  },
  {
   "cell_type": "code",
   "execution_count": 37,
   "metadata": {},
   "outputs": [
    {
     "name": "stdout",
     "output_type": "stream",
     "text": [
      "Para Logistic Regression el porcentaje estimado es:\n",
      "Bots --> 51.80633147113594\n",
      "Cuentas reales es --> 48.19366852886406\n"
     ]
    }
   ],
   "source": [
    "porcentaje_nb_hoomans = c_nb_dict[1]/2685*100\n",
    "porcentaje_nb_bots = 100-porcentaje_nb_hoomans\n",
    "print(f'Para Logistic Regression el porcentaje estimado es:\\nBots --> {porcentaje_nb_bots}\\nCuentas reales es --> {porcentaje_nb_hoomans}')"
   ]
  },
  {
   "cell_type": "code",
   "execution_count": 38,
   "metadata": {},
   "outputs": [
    {
     "data": {
      "text/plain": [
       "{0.0: 2019, 1.0: 666}"
      ]
     },
     "execution_count": 38,
     "metadata": {},
     "output_type": "execute_result"
    }
   ],
   "source": [
    "svc_tested = svclassifier.predict(data_test)\n",
    "c_svc = Counter(svc_tested)\n",
    "c_svc_dict = dict(c_svc)\n",
    "c_svc_dict"
   ]
  },
  {
   "cell_type": "code",
   "execution_count": 39,
   "metadata": {},
   "outputs": [
    {
     "name": "stdout",
     "output_type": "stream",
     "text": [
      "Para Logistic Regression el porcentaje estimado es:\n",
      "Bots --> 75.19553072625698\n",
      "Cuentas reales es --> 24.804469273743017\n"
     ]
    }
   ],
   "source": [
    "porcentaje_svc_hoomans = c_svc_dict[1]/2685*100\n",
    "porcentaje_svc_bots = 100-porcentaje_svc_hoomans\n",
    "print(f'Para Logistic Regression el porcentaje estimado es:\\nBots --> {porcentaje_svc_bots}\\nCuentas reales es --> {porcentaje_svc_hoomans}')"
   ]
  },
  {
   "cell_type": "markdown",
   "metadata": {},
   "source": [
    "## Dataset con verificación mixed"
   ]
  },
  {
   "cell_type": "code",
   "execution_count": 40,
   "metadata": {},
   "outputs": [
    {
     "data": {
      "text/html": [
       "<div>\n",
       "<style scoped>\n",
       "    .dataframe tbody tr th:only-of-type {\n",
       "        vertical-align: middle;\n",
       "    }\n",
       "\n",
       "    .dataframe tbody tr th {\n",
       "        vertical-align: top;\n",
       "    }\n",
       "\n",
       "    .dataframe thead th {\n",
       "        text-align: right;\n",
       "    }\n",
       "</style>\n",
       "<table border=\"1\" class=\"dataframe\">\n",
       "  <thead>\n",
       "    <tr style=\"text-align: right;\">\n",
       "      <th></th>\n",
       "      <th>followers_count</th>\n",
       "      <th>friends_count</th>\n",
       "      <th>favourites_count</th>\n",
       "      <th>geo_enabled</th>\n",
       "      <th>verified</th>\n",
       "      <th>statuses_count</th>\n",
       "      <th>default_profile</th>\n",
       "      <th>default_profile_image</th>\n",
       "    </tr>\n",
       "  </thead>\n",
       "  <tbody>\n",
       "    <tr>\n",
       "      <th>0</th>\n",
       "      <td>23</td>\n",
       "      <td>8</td>\n",
       "      <td>2</td>\n",
       "      <td>0</td>\n",
       "      <td>0</td>\n",
       "      <td>3792</td>\n",
       "      <td>0</td>\n",
       "      <td>0</td>\n",
       "    </tr>\n",
       "    <tr>\n",
       "      <th>1</th>\n",
       "      <td>322</td>\n",
       "      <td>8</td>\n",
       "      <td>34</td>\n",
       "      <td>0</td>\n",
       "      <td>0</td>\n",
       "      <td>407226</td>\n",
       "      <td>0</td>\n",
       "      <td>0</td>\n",
       "    </tr>\n",
       "    <tr>\n",
       "      <th>2</th>\n",
       "      <td>171</td>\n",
       "      <td>86</td>\n",
       "      <td>1933</td>\n",
       "      <td>0</td>\n",
       "      <td>0</td>\n",
       "      <td>15668</td>\n",
       "      <td>1</td>\n",
       "      <td>0</td>\n",
       "    </tr>\n",
       "    <tr>\n",
       "      <th>3</th>\n",
       "      <td>3374</td>\n",
       "      <td>9</td>\n",
       "      <td>15</td>\n",
       "      <td>0</td>\n",
       "      <td>0</td>\n",
       "      <td>5087</td>\n",
       "      <td>1</td>\n",
       "      <td>0</td>\n",
       "    </tr>\n",
       "    <tr>\n",
       "      <th>4</th>\n",
       "      <td>7</td>\n",
       "      <td>2</td>\n",
       "      <td>1</td>\n",
       "      <td>0</td>\n",
       "      <td>0</td>\n",
       "      <td>2813</td>\n",
       "      <td>0</td>\n",
       "      <td>0</td>\n",
       "    </tr>\n",
       "    <tr>\n",
       "      <th>...</th>\n",
       "      <td>...</td>\n",
       "      <td>...</td>\n",
       "      <td>...</td>\n",
       "      <td>...</td>\n",
       "      <td>...</td>\n",
       "      <td>...</td>\n",
       "      <td>...</td>\n",
       "      <td>...</td>\n",
       "    </tr>\n",
       "    <tr>\n",
       "      <th>2680</th>\n",
       "      <td>3020</td>\n",
       "      <td>790</td>\n",
       "      <td>1707</td>\n",
       "      <td>0</td>\n",
       "      <td>1</td>\n",
       "      <td>4671</td>\n",
       "      <td>0</td>\n",
       "      <td>0</td>\n",
       "    </tr>\n",
       "    <tr>\n",
       "      <th>2681</th>\n",
       "      <td>4074</td>\n",
       "      <td>4239</td>\n",
       "      <td>4777</td>\n",
       "      <td>1</td>\n",
       "      <td>1</td>\n",
       "      <td>712</td>\n",
       "      <td>0</td>\n",
       "      <td>0</td>\n",
       "    </tr>\n",
       "    <tr>\n",
       "      <th>2682</th>\n",
       "      <td>17014</td>\n",
       "      <td>2610</td>\n",
       "      <td>7765</td>\n",
       "      <td>1</td>\n",
       "      <td>1</td>\n",
       "      <td>17452</td>\n",
       "      <td>0</td>\n",
       "      <td>0</td>\n",
       "    </tr>\n",
       "    <tr>\n",
       "      <th>2683</th>\n",
       "      <td>367516</td>\n",
       "      <td>20245</td>\n",
       "      <td>10282</td>\n",
       "      <td>1</td>\n",
       "      <td>1</td>\n",
       "      <td>158301</td>\n",
       "      <td>0</td>\n",
       "      <td>0</td>\n",
       "    </tr>\n",
       "    <tr>\n",
       "      <th>2684</th>\n",
       "      <td>55512</td>\n",
       "      <td>11725</td>\n",
       "      <td>2429</td>\n",
       "      <td>1</td>\n",
       "      <td>1</td>\n",
       "      <td>57015</td>\n",
       "      <td>0</td>\n",
       "      <td>0</td>\n",
       "    </tr>\n",
       "  </tbody>\n",
       "</table>\n",
       "<p>2685 rows × 8 columns</p>\n",
       "</div>"
      ],
      "text/plain": [
       "      followers_count  friends_count  favourites_count  geo_enabled  verified  \\\n",
       "0                  23              8                 2            0         0   \n",
       "1                 322              8                34            0         0   \n",
       "2                 171             86              1933            0         0   \n",
       "3                3374              9                15            0         0   \n",
       "4                   7              2                 1            0         0   \n",
       "...               ...            ...               ...          ...       ...   \n",
       "2680             3020            790              1707            0         1   \n",
       "2681             4074           4239              4777            1         1   \n",
       "2682            17014           2610              7765            1         1   \n",
       "2683           367516          20245             10282            1         1   \n",
       "2684            55512          11725              2429            1         1   \n",
       "\n",
       "      statuses_count  default_profile  default_profile_image  \n",
       "0               3792                0                      0  \n",
       "1             407226                0                      0  \n",
       "2              15668                1                      0  \n",
       "3               5087                1                      0  \n",
       "4               2813                0                      0  \n",
       "...              ...              ...                    ...  \n",
       "2680            4671                0                      0  \n",
       "2681             712                0                      0  \n",
       "2682           17452                0                      0  \n",
       "2683          158301                0                      0  \n",
       "2684           57015                0                      0  \n",
       "\n",
       "[2685 rows x 8 columns]"
      ]
     },
     "execution_count": 40,
     "metadata": {},
     "output_type": "execute_result"
    }
   ],
   "source": [
    "mixed_test_data = panditasbb.read_csv('mixed_botometer_to_test.csv')\n",
    "mixed_test_data"
   ]
  },
  {
   "cell_type": "code",
   "execution_count": 41,
   "metadata": {},
   "outputs": [
    {
     "data": {
      "text/html": [
       "<div>\n",
       "<style scoped>\n",
       "    .dataframe tbody tr th:only-of-type {\n",
       "        vertical-align: middle;\n",
       "    }\n",
       "\n",
       "    .dataframe tbody tr th {\n",
       "        vertical-align: top;\n",
       "    }\n",
       "\n",
       "    .dataframe thead th {\n",
       "        text-align: right;\n",
       "    }\n",
       "</style>\n",
       "<table border=\"1\" class=\"dataframe\">\n",
       "  <thead>\n",
       "    <tr style=\"text-align: right;\">\n",
       "      <th></th>\n",
       "      <th>followers_count</th>\n",
       "      <th>friends_count</th>\n",
       "      <th>favourites_count</th>\n",
       "      <th>geo_enabled</th>\n",
       "      <th>verified</th>\n",
       "      <th>statuses_count</th>\n",
       "      <th>default_profile</th>\n",
       "      <th>default_profile_image</th>\n",
       "    </tr>\n",
       "  </thead>\n",
       "  <tbody>\n",
       "    <tr>\n",
       "      <th>957</th>\n",
       "      <td>0.000063</td>\n",
       "      <td>0.008172</td>\n",
       "      <td>0.005774</td>\n",
       "      <td>1.0</td>\n",
       "      <td>0.0</td>\n",
       "      <td>0.001649</td>\n",
       "      <td>1.0</td>\n",
       "      <td>0.0</td>\n",
       "    </tr>\n",
       "    <tr>\n",
       "      <th>1810</th>\n",
       "      <td>0.003677</td>\n",
       "      <td>0.011978</td>\n",
       "      <td>0.045568</td>\n",
       "      <td>0.0</td>\n",
       "      <td>0.0</td>\n",
       "      <td>0.013431</td>\n",
       "      <td>0.0</td>\n",
       "      <td>0.0</td>\n",
       "    </tr>\n",
       "    <tr>\n",
       "      <th>1543</th>\n",
       "      <td>0.001491</td>\n",
       "      <td>0.002307</td>\n",
       "      <td>0.043580</td>\n",
       "      <td>1.0</td>\n",
       "      <td>0.0</td>\n",
       "      <td>0.027134</td>\n",
       "      <td>0.0</td>\n",
       "      <td>0.0</td>\n",
       "    </tr>\n",
       "    <tr>\n",
       "      <th>1924</th>\n",
       "      <td>0.000061</td>\n",
       "      <td>0.006867</td>\n",
       "      <td>0.002786</td>\n",
       "      <td>0.0</td>\n",
       "      <td>0.0</td>\n",
       "      <td>0.001015</td>\n",
       "      <td>0.0</td>\n",
       "      <td>0.0</td>\n",
       "    </tr>\n",
       "    <tr>\n",
       "      <th>215</th>\n",
       "      <td>0.000002</td>\n",
       "      <td>0.000031</td>\n",
       "      <td>0.000000</td>\n",
       "      <td>0.0</td>\n",
       "      <td>0.0</td>\n",
       "      <td>0.000196</td>\n",
       "      <td>0.0</td>\n",
       "      <td>0.0</td>\n",
       "    </tr>\n",
       "    <tr>\n",
       "      <th>...</th>\n",
       "      <td>...</td>\n",
       "      <td>...</td>\n",
       "      <td>...</td>\n",
       "      <td>...</td>\n",
       "      <td>...</td>\n",
       "      <td>...</td>\n",
       "      <td>...</td>\n",
       "      <td>...</td>\n",
       "    </tr>\n",
       "    <tr>\n",
       "      <th>2453</th>\n",
       "      <td>0.000425</td>\n",
       "      <td>0.005119</td>\n",
       "      <td>0.005243</td>\n",
       "      <td>1.0</td>\n",
       "      <td>0.0</td>\n",
       "      <td>0.002196</td>\n",
       "      <td>0.0</td>\n",
       "      <td>0.0</td>\n",
       "    </tr>\n",
       "    <tr>\n",
       "      <th>824</th>\n",
       "      <td>0.000733</td>\n",
       "      <td>0.030504</td>\n",
       "      <td>0.010730</td>\n",
       "      <td>1.0</td>\n",
       "      <td>0.0</td>\n",
       "      <td>0.006767</td>\n",
       "      <td>0.0</td>\n",
       "      <td>0.0</td>\n",
       "    </tr>\n",
       "    <tr>\n",
       "      <th>1104</th>\n",
       "      <td>0.000213</td>\n",
       "      <td>0.014052</td>\n",
       "      <td>0.083710</td>\n",
       "      <td>1.0</td>\n",
       "      <td>0.0</td>\n",
       "      <td>0.009441</td>\n",
       "      <td>0.0</td>\n",
       "      <td>0.0</td>\n",
       "    </tr>\n",
       "    <tr>\n",
       "      <th>324</th>\n",
       "      <td>0.000097</td>\n",
       "      <td>0.000054</td>\n",
       "      <td>0.000002</td>\n",
       "      <td>0.0</td>\n",
       "      <td>0.0</td>\n",
       "      <td>0.040854</td>\n",
       "      <td>0.0</td>\n",
       "      <td>0.0</td>\n",
       "    </tr>\n",
       "    <tr>\n",
       "      <th>50</th>\n",
       "      <td>0.000002</td>\n",
       "      <td>0.000031</td>\n",
       "      <td>0.000013</td>\n",
       "      <td>0.0</td>\n",
       "      <td>1.0</td>\n",
       "      <td>0.018680</td>\n",
       "      <td>0.0</td>\n",
       "      <td>0.0</td>\n",
       "    </tr>\n",
       "  </tbody>\n",
       "</table>\n",
       "<p>2685 rows × 8 columns</p>\n",
       "</div>"
      ],
      "text/plain": [
       "      followers_count  friends_count  favourites_count  geo_enabled  verified  \\\n",
       "957          0.000063       0.008172          0.005774          1.0       0.0   \n",
       "1810         0.003677       0.011978          0.045568          0.0       0.0   \n",
       "1543         0.001491       0.002307          0.043580          1.0       0.0   \n",
       "1924         0.000061       0.006867          0.002786          0.0       0.0   \n",
       "215          0.000002       0.000031          0.000000          0.0       0.0   \n",
       "...               ...            ...               ...          ...       ...   \n",
       "2453         0.000425       0.005119          0.005243          1.0       0.0   \n",
       "824          0.000733       0.030504          0.010730          1.0       0.0   \n",
       "1104         0.000213       0.014052          0.083710          1.0       0.0   \n",
       "324          0.000097       0.000054          0.000002          0.0       0.0   \n",
       "50           0.000002       0.000031          0.000013          0.0       1.0   \n",
       "\n",
       "      statuses_count  default_profile  default_profile_image  \n",
       "957         0.001649              1.0                    0.0  \n",
       "1810        0.013431              0.0                    0.0  \n",
       "1543        0.027134              0.0                    0.0  \n",
       "1924        0.001015              0.0                    0.0  \n",
       "215         0.000196              0.0                    0.0  \n",
       "...              ...              ...                    ...  \n",
       "2453        0.002196              0.0                    0.0  \n",
       "824         0.006767              0.0                    0.0  \n",
       "1104        0.009441              0.0                    0.0  \n",
       "324         0.040854              0.0                    0.0  \n",
       "50          0.018680              0.0                    0.0  \n",
       "\n",
       "[2685 rows x 8 columns]"
      ]
     },
     "execution_count": 41,
     "metadata": {},
     "output_type": "execute_result"
    }
   ],
   "source": [
    "mix_test_data = mixed_test_data.values\n",
    "min_max_scaler = preprocessing.MinMaxScaler()\n",
    "scaler_test_data = min_max_scaler.fit(mix_test_data)\n",
    "mix_data_test = panditasbb.DataFrame(scaler_test_data.transform(mixed_test_data), index=mixed_test_data.index, columns=mixed_test_data.columns)\n",
    "\n",
    "mix_data_test = mix_data_test.sample(frac=1)\n",
    "mix_data_test"
   ]
  },
  {
   "cell_type": "code",
   "execution_count": 42,
   "metadata": {},
   "outputs": [
    {
     "data": {
      "text/plain": [
       "{1.0: 1095, 0.0: 1590}"
      ]
     },
     "execution_count": 42,
     "metadata": {},
     "output_type": "execute_result"
    }
   ],
   "source": [
    "logreg_tested = logreg.predict(mix_data_test)\n",
    "c_logreg = Counter(logreg_tested)\n",
    "c_logreg_dict = dict(c_logreg)\n",
    "c_logreg_dict"
   ]
  },
  {
   "cell_type": "code",
   "execution_count": 43,
   "metadata": {},
   "outputs": [
    {
     "name": "stdout",
     "output_type": "stream",
     "text": [
      "Para Logistic Regression el porcentaje estimado es:\n",
      "Bots --> 59.21787709497207\n",
      "Cuentas reales es --> 40.78212290502793\n"
     ]
    }
   ],
   "source": [
    "porcentaje_logreg_hoomans = c_logreg_dict[1]/2685*100\n",
    "porcentaje_logreg_bots = 100-porcentaje_logreg_hoomans\n",
    "print(f'Para Logistic Regression el porcentaje estimado es:\\nBots --> {porcentaje_logreg_bots}\\nCuentas reales es --> {porcentaje_logreg_hoomans}')"
   ]
  },
  {
   "cell_type": "code",
   "execution_count": 44,
   "metadata": {},
   "outputs": [
    {
     "data": {
      "text/plain": [
       "{1.0: 1300, 0.0: 1385}"
      ]
     },
     "execution_count": 44,
     "metadata": {},
     "output_type": "execute_result"
    }
   ],
   "source": [
    "knn_tested = knn.predict(mix_data_test)\n",
    "c_knn = Counter(knn_tested)\n",
    "c_knn_dict = dict(c_knn)\n",
    "c_knn_dict"
   ]
  },
  {
   "cell_type": "code",
   "execution_count": 45,
   "metadata": {},
   "outputs": [
    {
     "name": "stdout",
     "output_type": "stream",
     "text": [
      "Para Logistic Regression el porcentaje estimado es:\n",
      "Bots --> 51.5828677839851\n",
      "Cuentas reales es --> 48.4171322160149\n"
     ]
    }
   ],
   "source": [
    "porcentaje_knn_hoomans = c_knn_dict[1]/2685*100\n",
    "porcentaje_knn_bots = 100-porcentaje_knn_hoomans\n",
    "print(f'Para Logistic Regression el porcentaje estimado es:\\nBots --> {porcentaje_knn_bots}\\nCuentas reales es --> {porcentaje_knn_hoomans}')"
   ]
  },
  {
   "cell_type": "code",
   "execution_count": 46,
   "metadata": {},
   "outputs": [
    {
     "data": {
      "text/plain": [
       "{1.0: 1316, 0.0: 1369}"
      ]
     },
     "execution_count": 46,
     "metadata": {},
     "output_type": "execute_result"
    }
   ],
   "source": [
    "RFC_tested = RFC.predict(mix_data_test)\n",
    "c_RFC = Counter(RFC_tested)\n",
    "c_RFC_dict = dict(c_RFC)\n",
    "c_RFC_dict"
   ]
  },
  {
   "cell_type": "code",
   "execution_count": 47,
   "metadata": {},
   "outputs": [
    {
     "name": "stdout",
     "output_type": "stream",
     "text": [
      "Para Logistic Regression el porcentaje estimado es:\n",
      "Bots --> 50.98696461824954\n",
      "Cuentas reales es --> 49.01303538175046\n"
     ]
    }
   ],
   "source": [
    "porcentaje_RFC_hoomans = c_RFC_dict[1]/2685*100\n",
    "porcentaje_RFC_bots = 100-porcentaje_RFC_hoomans\n",
    "print(f'Para Logistic Regression el porcentaje estimado es:\\nBots --> {porcentaje_RFC_bots}\\nCuentas reales es --> {porcentaje_RFC_hoomans}')"
   ]
  },
  {
   "cell_type": "code",
   "execution_count": 48,
   "metadata": {},
   "outputs": [
    {
     "data": {
      "text/plain": [
       "{0.0: 1468, 1.0: 1217}"
      ]
     },
     "execution_count": 48,
     "metadata": {},
     "output_type": "execute_result"
    }
   ],
   "source": [
    "nb_tested = nb.predict(mix_data_test)\n",
    "c_nb = Counter(nb_tested)\n",
    "c_nb_dict = dict(c_nb)\n",
    "c_nb_dict"
   ]
  },
  {
   "cell_type": "code",
   "execution_count": 49,
   "metadata": {},
   "outputs": [
    {
     "name": "stdout",
     "output_type": "stream",
     "text": [
      "Para Logistic Regression el porcentaje estimado es:\n",
      "Bots --> 54.67411545623836\n",
      "Cuentas reales es --> 45.32588454376164\n"
     ]
    }
   ],
   "source": [
    "porcentaje_nb_hoomans = c_nb_dict[1]/2685*100\n",
    "porcentaje_nb_bots = 100-porcentaje_nb_hoomans\n",
    "print(f'Para Logistic Regression el porcentaje estimado es:\\nBots --> {porcentaje_nb_bots}\\nCuentas reales es --> {porcentaje_nb_hoomans}')"
   ]
  },
  {
   "cell_type": "code",
   "execution_count": 50,
   "metadata": {},
   "outputs": [
    {
     "data": {
      "text/plain": [
       "{1.0: 664, 0.0: 2021}"
      ]
     },
     "execution_count": 50,
     "metadata": {},
     "output_type": "execute_result"
    }
   ],
   "source": [
    "svc_tested = svclassifier.predict(mix_data_test)\n",
    "c_svc = Counter(svc_tested)\n",
    "c_svc_dict = dict(c_svc)\n",
    "c_svc_dict"
   ]
  },
  {
   "cell_type": "code",
   "execution_count": 51,
   "metadata": {},
   "outputs": [
    {
     "name": "stdout",
     "output_type": "stream",
     "text": [
      "Para Logistic Regression el porcentaje estimado es:\n",
      "Bots --> 75.27001862197393\n",
      "Cuentas reales es --> 24.72998137802607\n"
     ]
    }
   ],
   "source": [
    "porcentaje_svc_hoomans = c_svc_dict[1]/2685*100\n",
    "porcentaje_svc_bots = 100-porcentaje_svc_hoomans\n",
    "print(f'Para Logistic Regression el porcentaje estimado es:\\nBots --> {porcentaje_svc_bots}\\nCuentas reales es --> {porcentaje_svc_hoomans}')"
   ]
  },
  {
   "cell_type": "code",
   "execution_count": null,
   "metadata": {},
   "outputs": [],
   "source": []
  }
 ],
 "metadata": {
  "kernelspec": {
   "display_name": "Python 3",
   "language": "python",
   "name": "python3"
  },
  "language_info": {
   "codemirror_mode": {
    "name": "ipython",
    "version": 3
   },
   "file_extension": ".py",
   "mimetype": "text/x-python",
   "name": "python",
   "nbconvert_exporter": "python",
   "pygments_lexer": "ipython3",
   "version": "3.7.6"
  }
 },
 "nbformat": 4,
 "nbformat_minor": 4
}
